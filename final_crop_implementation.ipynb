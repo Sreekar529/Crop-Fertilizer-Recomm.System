{
 "cells": [
  {
   "cell_type": "markdown",
   "id": "18b33ce4",
   "metadata": {},
   "source": [
    "# 🌾 Crop Recommendation System\n",
    "This tool suggests the best crop to cultivate based on soil and weather conditions."
   ]
  },
  {
   "cell_type": "code",
   "execution_count": 1,
   "id": "ec0beb84",
   "metadata": {},
   "outputs": [
    {
     "data": {
      "application/vnd.jupyter.widget-view+json": {
       "model_id": "4121bc8c75ff4422a71f31244c667747",
       "version_major": 2,
       "version_minor": 0
      },
      "text/plain": [
       "VBox(children=(IntSlider(value=50, description='Nitrogen', max=200), IntSlider(value=50, description='Phosphor…"
      ]
     },
     "metadata": {},
     "output_type": "display_data"
    },
    {
     "data": {
      "text/html": [
       "<h2 style='color:green;'>🌱 Recommended Crop: mango</h2>"
      ],
      "text/plain": [
       "<IPython.core.display.HTML object>"
      ]
     },
     "metadata": {},
     "output_type": "display_data"
    }
   ],
   "source": [
    "\n",
    "import numpy as np\n",
    "import pandas as pd\n",
    "import ipywidgets as widgets\n",
    "from IPython.display import display, HTML\n",
    "from sklearn.model_selection import train_test_split\n",
    "from sklearn.ensemble import RandomForestClassifier\n",
    "\n",
    "# Load dataset\n",
    "crop_data = pd.read_csv(\"dataset/Crop_recommendation.csv\")\n",
    "\n",
    "# Select features and target variable\n",
    "feature_columns = crop_data.columns[:-1]  # All except the last column\n",
    "target_column = crop_data.columns[-1]     # Last column is the target\n",
    "\n",
    "# Train model\n",
    "X = crop_data[feature_columns].values\n",
    "y = crop_data[target_column].values\n",
    "\n",
    "model = RandomForestClassifier(n_estimators=100, random_state=42)\n",
    "model.fit(X, y)\n",
    "\n",
    "# Function to predict crop\n",
    "def recommend_crop(N, P, K, temperature, humidity, ph, rainfall):\n",
    "    user_input = np.array([[N, P, K, temperature, humidity, ph, rainfall]])\n",
    "    prediction = model.predict(user_input)[0]\n",
    "    display(HTML(f\"<h2 style='color:green;'>🌱 Recommended Crop: {prediction}</h2>\"))\n",
    "\n",
    "# Interactive UI\n",
    "ui = widgets.VBox([\n",
    "    widgets.IntSlider(min=0, max=200, value=50, description=\"Nitrogen\"),\n",
    "    widgets.IntSlider(min=0, max=200, value=50, description=\"Phosphorus\"),\n",
    "    widgets.IntSlider(min=0, max=200, value=50, description=\"Potassium\"),\n",
    "    widgets.FloatSlider(min=0, max=50, value=25, description=\"Temperature (°C)\"),\n",
    "    widgets.FloatSlider(min=0, max=100, value=50, description=\"Humidity (%)\"),\n",
    "    widgets.FloatSlider(min=3, max=9, value=6.5, description=\"pH Level\"),\n",
    "    widgets.FloatSlider(min=0, max=300, value=100, description=\"Rainfall (mm)\"),\n",
    "    widgets.Button(description=\"Recommend Crop\", button_style='success')\n",
    "])\n",
    "\n",
    "def on_button_click(b):\n",
    "    recommend_crop(ui.children[0].value, ui.children[1].value, ui.children[2].value,\n",
    "                   ui.children[3].value, ui.children[4].value, ui.children[5].value, ui.children[6].value)\n",
    "\n",
    "ui.children[-1].on_click(on_button_click)\n",
    "\n",
    "display(ui)\n"
   ]
  }
 ],
 "metadata": {
  "kernelspec": {
   "display_name": "Python 3",
   "language": "python",
   "name": "python3"
  },
  "language_info": {
   "codemirror_mode": {
    "name": "ipython",
    "version": 3
   },
   "file_extension": ".py",
   "mimetype": "text/x-python",
   "name": "python",
   "nbconvert_exporter": "python",
   "pygments_lexer": "ipython3",
   "version": "3.12.4"
  }
 },
 "nbformat": 4,
 "nbformat_minor": 2
}
