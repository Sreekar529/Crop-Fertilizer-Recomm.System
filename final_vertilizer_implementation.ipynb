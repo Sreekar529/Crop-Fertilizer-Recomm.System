{
 "cells": [
  {
   "cell_type": "markdown",
   "id": "a921164c",
   "metadata": {},
   "source": [
    "# 🌿 Fertilizer Recommendation System\n",
    "This tool helps farmers choose the best fertilizer based on soil conditions."
   ]
  },
  {
   "cell_type": "code",
   "execution_count": 1,
   "id": "da8edb12",
   "metadata": {},
   "outputs": [
    {
     "data": {
      "application/vnd.jupyter.widget-view+json": {
       "model_id": "a46aed2784574ff7b94a917f8b768735",
       "version_major": 2,
       "version_minor": 0
      },
      "text/plain": [
       "VBox(children=(Dropdown(description='Soil Type', options=('Black', 'Clayey', 'Loamy', 'Red', 'Sandy'), value='…"
      ]
     },
     "metadata": {},
     "output_type": "display_data"
    },
    {
     "data": {
      "text/html": [
       "<h2 style='color:blue;'>💧 Recommended Fertilizer: Urea</h2>"
      ],
      "text/plain": [
       "<IPython.core.display.HTML object>"
      ]
     },
     "metadata": {},
     "output_type": "display_data"
    }
   ],
   "source": [
    "\n",
    "import numpy as np\n",
    "import pandas as pd\n",
    "import ipywidgets as widgets\n",
    "from IPython.display import display, HTML\n",
    "from sklearn.preprocessing import LabelEncoder\n",
    "\n",
    "# Load dataset\n",
    "fertilizer = pd.read_csv(\"dataset/Fertilizer Prediction.csv\")\n",
    "\n",
    "# Select relevant columns (assuming first 3 are relevant features and last is the target)\n",
    "feature_columns = fertilizer.columns[:3]  # Select first three columns for model training\n",
    "target_column = fertilizer.columns[-1]    # Last column as target\n",
    "\n",
    "# Encode categorical values\n",
    "soil_encoder = LabelEncoder()\n",
    "crop_encoder = LabelEncoder()\n",
    "\n",
    "fertilizer[\"Soil Type\"] = soil_encoder.fit_transform(fertilizer[\"Soil Type\"])\n",
    "fertilizer[\"Crop Type\"] = crop_encoder.fit_transform(fertilizer[\"Crop Type\"])\n",
    "\n",
    "# Function to recommend fertilizer\n",
    "def recommend_fertilizer(soil_type, crop_type, moisture):\n",
    "    soil_num = soil_encoder.transform([soil_type])[0]\n",
    "    crop_num = crop_encoder.transform([crop_type])[0]\n",
    "\n",
    "    user_input = np.array([[soil_num, crop_num, moisture]])\n",
    "\n",
    "    from sklearn.tree import DecisionTreeClassifier\n",
    "\n",
    "    X = fertilizer[feature_columns].values  # Use only selected features\n",
    "    y = fertilizer[target_column].values    # Target variable\n",
    "\n",
    "    model = DecisionTreeClassifier()\n",
    "    model.fit(X, y)\n",
    "\n",
    "    prediction = model.predict(user_input)[0]\n",
    "\n",
    "    display(HTML(f\"<h2 style='color:blue;'>💧 Recommended Fertilizer: {prediction}</h2>\"))\n",
    "\n",
    "# Interactive UI\n",
    "ui = widgets.VBox([\n",
    "    widgets.Dropdown(options=soil_encoder.classes_, description=\"Soil Type\"),\n",
    "    widgets.Dropdown(options=crop_encoder.classes_, description=\"Crop Type\"),\n",
    "    widgets.FloatSlider(min=10, max=100, step=0.1, value=50, description=\"Moisture Level (%)\"),\n",
    "    widgets.Button(description=\"Recommend Fertilizer\", button_style='primary')\n",
    "])\n",
    "\n",
    "def on_button_click(b):\n",
    "    recommend_fertilizer(ui.children[0].value, ui.children[1].value, ui.children[2].value)\n",
    "\n",
    "ui.children[-1].on_click(on_button_click)\n",
    "\n",
    "display(ui)\n"
   ]
  }
 ],
 "metadata": {
  "kernelspec": {
   "display_name": "Python 3",
   "language": "python",
   "name": "python3"
  },
  "language_info": {
   "codemirror_mode": {
    "name": "ipython",
    "version": 3
   },
   "file_extension": ".py",
   "mimetype": "text/x-python",
   "name": "python",
   "nbconvert_exporter": "python",
   "pygments_lexer": "ipython3",
   "version": "3.12.4"
  }
 },
 "nbformat": 4,
 "nbformat_minor": 5
}
